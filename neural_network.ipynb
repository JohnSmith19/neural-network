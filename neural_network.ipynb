{
 "cells": [
  {
   "cell_type": "code",
   "execution_count": 27,
   "metadata": {},
   "outputs": [],
   "source": [
    "import numpy\n",
    "import scipy.special"
   ]
  },
  {
   "cell_type": "code",
   "execution_count": 37,
   "metadata": {},
   "outputs": [],
   "source": [
    "class neuralNetwork:\n",
    "    def __init__(self, input_nodes, hidden_nodes, output_nodes, learning_rate):\n",
    "        print('__init__()')\n",
    "        \n",
    "        # 입력, 은닉, 출력 계층 노드 개수 설정\n",
    "        self.inodes = input_nodes\n",
    "        self.hnodes = hidden_nodes\n",
    "        self.onodes = output_nodes\n",
    "        \n",
    "        # 가중치 행렬 (Weight Input -> Hidden) 와 (Weight Hidden -> Out)\n",
    "        self.wih = numpy.random.normal(0.0, pow(self.hnodes, -0.5), (self.hnodes, self.inodes))\n",
    "        self.who = numpy.random.normal(0.0, pow(self.onodes, -0.5), (self.onodes, self.hnodes))\n",
    "        print('W I=>H', self.wih)\n",
    "        print('W H=>O', self.who)\n",
    "        \n",
    "        # 학습률\n",
    "        self.lr = learning_rate\n",
    "        \n",
    "        # 신경망 활성화 sigmoid 함수 정의\n",
    "        self.activation_function = lambda x: scipy.special.expit(x)\n",
    "        \n",
    "        pass\n",
    "    \n",
    "    def train(self, inputs_list, targets_list):\n",
    "        # 입력과 타겟 리스트를 2차원 행렬변환\n",
    "        inputs = numpy.array(inputs_list, ndmin=2).T\n",
    "        targets = numpy.array(targets_list, ndmin=2).T\n",
    "        \n",
    "        hidden_inputs = numpy.dot(self.wih, inputs)\n",
    "        hidden_outputs = self.activation_function(hidden_inputs)\n",
    "        \n",
    "        final_inputs = numpy.dot(self.who, hidden_outputs)\n",
    "        final_outputs = self.activation_function(final_inputs)\n",
    "        \n",
    "        # 출력 계층의 오차 (실제 값 - 계산 값)\n",
    "        output_errors = targets - final_outputs\n",
    "        print('output_errors', output_errors)\n",
    "        # 은닉 계층의 오차 (가중치에 의해 나뉜 출력 계층의 오차들을 재조립하여 계산)\n",
    "        hidden_errors = numpy.dot(self.who.T, output_errors)\n",
    "        print('hidden_errors', hidden_errors)\n",
    "        \n",
    "        # 은닉 계층과 출력 계층 간의 가중치 업데이트\n",
    "        self.who += self.lr * numpy.dot((output_errors * final_outputs * (1.0 - final_outputs)), numpy.transpose(hidden_outputs))\n",
    "        # 입력 계층과 은닉 계층 간의 가중치 업데이트\n",
    "        self.wih += self.lr * numpy.dot((hidden_errors * hidden_outputs * (1.0 - hidden_outputs)), numpy.transpose(inputs))\n",
    "        pass\n",
    "    \n",
    "    def query(self, inputs_list):\n",
    "        print('query()')\n",
    "        \n",
    "        # input list 2차원 행렬변환\n",
    "        inputs = numpy.array(inputs_list, ndmin=2).T\n",
    "        \n",
    "        # 은닉 계층으로 들어오는 신호를 계산\n",
    "        hidden_inputs = numpy.dot(self.wih, inputs)\n",
    "        # 은닉 계층에서 나가는 신호를 계산\n",
    "        hidden_outputs = self.activation_function(hidden_inputs)\n",
    "        # 최종 출력 계층으로 들어오는 신호를 계산\n",
    "        final_inputs = numpy.dot(self.who, hidden_outputs)\n",
    "        # 최종 출력 계층에서 나가는 신호를 계산\n",
    "        final_outputs = self.activation_function(final_inputs)\n",
    "        \n",
    "        return final_outputs"
   ]
  },
  {
   "cell_type": "code",
   "execution_count": 33,
   "metadata": {},
   "outputs": [
    {
     "name": "stdout",
     "output_type": "stream",
     "text": [
      "__init__()\n",
      "W I=>H [[-0.18106336  0.41355076  0.69340904]\n",
      " [ 0.32536134 -1.08425882  0.02943289]\n",
      " [ 0.02810134 -0.71218088  0.68348684]]\n",
      "W H=>O [[-0.36905981  1.02134115  0.53412968]\n",
      " [-0.72384127  0.20623522  0.66800757]\n",
      " [ 0.06612125  0.01377857 -0.43883897]]\n"
     ]
    }
   ],
   "source": [
    "# input, hidden, output 노드 수\n",
    "input_nodes = 3\n",
    "hidden_nodes = 3\n",
    "output_nodes = 3\n",
    "\n",
    "# 학습률\n",
    "learning_rate = 0.3\n",
    "\n",
    "# create instance of neural network\n",
    "n = neuralNetwork(input_nodes, hidden_nodes, output_nodes, learning_rate)"
   ]
  },
  {
   "cell_type": "code",
   "execution_count": 34,
   "metadata": {},
   "outputs": [
    {
     "name": "stdout",
     "output_type": "stream",
     "text": [
      "query()\n"
     ]
    },
    {
     "data": {
      "text/plain": [
       "array([[0.61203901],\n",
       "       [0.50857025],\n",
       "       [0.48337576]])"
      ]
     },
     "execution_count": 34,
     "metadata": {},
     "output_type": "execute_result"
    }
   ],
   "source": [
    "n.query([1.0, 0.5, -1.5])"
   ]
  },
  {
   "cell_type": "code",
   "execution_count": null,
   "metadata": {},
   "outputs": [],
   "source": []
  }
 ],
 "metadata": {
  "kernelspec": {
   "display_name": "Python 3",
   "language": "python",
   "name": "python3"
  },
  "language_info": {
   "codemirror_mode": {
    "name": "ipython",
    "version": 3
   },
   "file_extension": ".py",
   "mimetype": "text/x-python",
   "name": "python",
   "nbconvert_exporter": "python",
   "pygments_lexer": "ipython3",
   "version": "3.5.6"
  }
 },
 "nbformat": 4,
 "nbformat_minor": 2
}
